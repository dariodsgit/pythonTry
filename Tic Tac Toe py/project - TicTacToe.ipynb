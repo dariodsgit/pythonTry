{
 "cells": [
  {
   "cell_type": "code",
   "execution_count": 84,
   "id": "291f7fc7",
   "metadata": {},
   "outputs": [],
   "source": [
    "def print_function(row1,row2,row3):\n",
    "    print(row1)\n",
    "    print(row2)\n",
    "    print(row3)\n",
    "    \n"
   ]
  },
  {
   "cell_type": "code",
   "execution_count": 85,
   "id": "083de4dd",
   "metadata": {},
   "outputs": [
    {
     "name": "stdout",
     "output_type": "stream",
     "text": [
      "[' ', ' ', ' ']\n",
      "[' ', ' ', ' ']\n",
      "[' ', ' ', ' ']\n"
     ]
    }
   ],
   "source": [
    "example_row = [' ',' ',' ']\n",
    "example_row1 = [' ',' ',' ']\n",
    "example_row2 = [' ',' ',' ']\n",
    "print_function(example_row,example_row1,example_row2)"
   ]
  },
  {
   "cell_type": "code",
   "execution_count": 106,
   "id": "9eec9d63",
   "metadata": {},
   "outputs": [],
   "source": [
    "def insert_into(choice,example_row,example_row1,example_row2):\n",
    "    range_1 = [0,1,2]\n",
    "    range_2 = [3,4,5]\n",
    "    range_3 = [6,7,8]\n",
    "    if choice in range_1:\n",
    "        example_row[choice] = 'X'\n",
    "        print_function(example_row,example_row1,example_row2)"
   ]
  },
  {
   "cell_type": "code",
   "execution_count": 144,
   "id": "ab606932",
   "metadata": {},
   "outputs": [],
   "source": [
    "def user_choice():\n",
    "    acceptable_values = range(0,8)\n",
    "    choice = 'NOT A DIGIT'\n",
    "    while choice.isdigit() == False or choice not in acceptable_values:\n",
    "        choice = input(\"Please insert a value between 0 and 10 to decide where put X or O: \")\n",
    "        if choice.isdigit() == True:\n",
    "            choice_int = int(choice)\n",
    "            if choice_int not in acceptable_values:\n",
    "                print(\"Please insert a value between 0 and 10\")\n",
    "            else:\n",
    "                insert_into(int(choice),example_row,example_row1,example_row2)\n",
    "\n",
    "        else:\n",
    "            print(\"please enter a valid digit\")\n",
    "    return int(choice)"
   ]
  },
  {
   "cell_type": "code",
   "execution_count": null,
   "id": "cc8b62e1",
   "metadata": {},
   "outputs": [
    {
     "name": "stdout",
     "output_type": "stream",
     "text": [
      "Please insert a value between 0 and 10 to decide where put X or O: 2\n",
      "[' ', ' ', 'X']\n",
      "[' ', ' ', ' ']\n",
      "[' ', ' ', ' ']\n",
      "Please insert a value between 0 and 10 to decide where put X or O: 10\n",
      "Please insert a value between 0 and 10\n",
      "Please insert a value between 0 and 10 to decide where put X or O: x\n",
      "please enter a valid digit\n"
     ]
    }
   ],
   "source": [
    "user_choice()"
   ]
  },
  {
   "cell_type": "code",
   "execution_count": null,
   "id": "c0789420",
   "metadata": {},
   "outputs": [],
   "source": []
  },
  {
   "cell_type": "code",
   "execution_count": null,
   "id": "c1a24ff5",
   "metadata": {},
   "outputs": [],
   "source": []
  },
  {
   "cell_type": "code",
   "execution_count": null,
   "id": "4e06775f",
   "metadata": {},
   "outputs": [],
   "source": []
  },
  {
   "cell_type": "code",
   "execution_count": null,
   "id": "00db1a3b",
   "metadata": {},
   "outputs": [],
   "source": []
  }
 ],
 "metadata": {
  "kernelspec": {
   "display_name": "Python 3 (ipykernel)",
   "language": "python",
   "name": "python3"
  },
  "language_info": {
   "codemirror_mode": {
    "name": "ipython",
    "version": 3
   },
   "file_extension": ".py",
   "mimetype": "text/x-python",
   "name": "python",
   "nbconvert_exporter": "python",
   "pygments_lexer": "ipython3",
   "version": "3.11.5"
  }
 },
 "nbformat": 4,
 "nbformat_minor": 5
}

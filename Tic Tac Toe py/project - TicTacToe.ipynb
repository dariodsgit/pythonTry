{
 "cells": [
  {
   "cell_type": "code",
   "execution_count": 12,
   "id": "291f7fc7",
   "metadata": {},
   "outputs": [],
   "source": [
    "def print_function(row1,row2,row3):\n",
    "    print(row1)\n",
    "    print(row2)\n",
    "    print(row3)"
   ]
  },
  {
   "cell_type": "code",
   "execution_count": 30,
   "id": "083de4dd",
   "metadata": {},
   "outputs": [
    {
     "name": "stdout",
     "output_type": "stream",
     "text": [
      "[' ', ' ', ' ']\n",
      "[' ', ' ', ' ']\n",
      "[' ', ' ', ' ']\n"
     ]
    }
   ],
   "source": [
    "example_row = [' ',' ',' ']\n",
    "example_row1 = [' ',' ',' ']\n",
    "example_row2 = [' ',' ',' ']\n",
    "print_function(example_row,example_row1,example_row2)"
   ]
  },
  {
   "cell_type": "code",
   "execution_count": 20,
   "id": "9eec9d63",
   "metadata": {},
   "outputs": [
    {
     "name": "stdout",
     "output_type": "stream",
     "text": [
      "Please enter an index:2\n"
     ]
    }
   ],
   "source": [
    "position_index = int(input('Please enter an index:'))"
   ]
  },
  {
   "cell_type": "code",
   "execution_count": 27,
   "id": "ab606932",
   "metadata": {},
   "outputs": [
    {
     "data": {
      "text/plain": [
       "int"
      ]
     },
     "execution_count": 27,
     "metadata": {},
     "output_type": "execute_result"
    }
   ],
   "source": [
    "type(position_index)"
   ]
  },
  {
   "cell_type": "code",
   "execution_count": 32,
   "id": "cc8b62e1",
   "metadata": {},
   "outputs": [],
   "source": [
    "example_row[position_index] = 'X'"
   ]
  },
  {
   "cell_type": "code",
   "execution_count": 33,
   "id": "c0789420",
   "metadata": {},
   "outputs": [
    {
     "name": "stdout",
     "output_type": "stream",
     "text": [
      "[' ', ' ', 'X']\n",
      "[' ', ' ', ' ']\n",
      "[' ', ' ', ' ']\n"
     ]
    }
   ],
   "source": [
    "print_function(example_row,example_row1,example_row2)"
   ]
  },
  {
   "cell_type": "code",
   "execution_count": null,
   "id": "c1a24ff5",
   "metadata": {},
   "outputs": [],
   "source": []
  }
 ],
 "metadata": {
  "kernelspec": {
   "display_name": "Python 3 (ipykernel)",
   "language": "python",
   "name": "python3"
  },
  "language_info": {
   "codemirror_mode": {
    "name": "ipython",
    "version": 3
   },
   "file_extension": ".py",
   "mimetype": "text/x-python",
   "name": "python",
   "nbconvert_exporter": "python",
   "pygments_lexer": "ipython3",
   "version": "3.11.5"
  }
 },
 "nbformat": 4,
 "nbformat_minor": 5
}
